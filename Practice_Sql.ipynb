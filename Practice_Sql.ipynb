{
  "nbformat": 4,
  "nbformat_minor": 0,
  "metadata": {
    "colab": {
      "name": "Practice Sql.ipynb",
      "provenance": [],
      "authorship_tag": "ABX9TyOYigpa8j4PIYhUCQU2GlHW",
      "include_colab_link": true
    },
    "kernelspec": {
      "name": "python3",
      "display_name": "Python 3"
    }
  },
  "cells": [
    {
      "cell_type": "markdown",
      "metadata": {
        "id": "view-in-github",
        "colab_type": "text"
      },
      "source": [
        "<a href=\"https://colab.research.google.com/github/Abinaya-J/Hackerrank_quizzes/blob/master/Practice_Sql.ipynb\" target=\"_parent\"><img src=\"https://colab.research.google.com/assets/colab-badge.svg\" alt=\"Open In Colab\"/></a>"
      ]
    },
    {
      "cell_type": "code",
      "metadata": {
        "id": "sdSoowUFtJke"
      },
      "source": [
        "#Revising the Select Query I\n",
        "\n",
        "SELECT *\n",
        "FROM CITY\n",
        "WHERE CITY.COUNTRYCODE = 'USA' AND CITY.POPULATION > 100000;"
      ],
      "execution_count": null,
      "outputs": []
    }
  ]
}