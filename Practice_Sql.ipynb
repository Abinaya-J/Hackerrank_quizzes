{
  "nbformat": 4,
  "nbformat_minor": 0,
  "metadata": {
    "colab": {
      "name": "Practice Sql.ipynb",
      "provenance": [],
      "authorship_tag": "ABX9TyMLwCCZGBPboSsbmPrAnRN+",
      "include_colab_link": true
    },
    "kernelspec": {
      "name": "python3",
      "display_name": "Python 3"
    }
  },
  "cells": [
    {
      "cell_type": "markdown",
      "metadata": {
        "id": "view-in-github",
        "colab_type": "text"
      },
      "source": [
        "<a href=\"https://colab.research.google.com/github/Abinaya-J/Hackerrank_quizzes/blob/master/Practice_Sql.ipynb\" target=\"_parent\"><img src=\"https://colab.research.google.com/assets/colab-badge.svg\" alt=\"Open In Colab\"/></a>"
      ]
    },
    {
      "cell_type": "code",
      "metadata": {
        "id": "sdSoowUFtJke"
      },
      "source": [
        "#Revising the Select Query I\n",
        "\n",
        "SELECT *\n",
        "FROM CITY\n",
        "WHERE CITY.COUNTRYCODE = 'USA' AND CITY.POPULATION > 100000;"
      ],
      "execution_count": null,
      "outputs": []
    },
    {
      "cell_type": "code",
      "metadata": {
        "id": "wSat2eHZUBI6"
      },
      "source": [
        "#Revising the Select Query II\n",
        "\n",
        "SELECT NAME\n",
        "FROM CITY\n",
        "WHERE CITY.COUNTRYCODE = 'USA' AND CITY.POPULATION > 120000;"
      ],
      "execution_count": null,
      "outputs": []
    },
    {
      "cell_type": "code",
      "metadata": {
        "id": "wCh3IjLVUWj2"
      },
      "source": [
        "#Select All\n",
        "\n",
        "SELECT *\n",
        "FROM CITY;"
      ],
      "execution_count": null,
      "outputs": []
    },
    {
      "cell_type": "code",
      "metadata": {
        "id": "UV95F98LUgnx"
      },
      "source": [
        "#Select By ID\n",
        "\n",
        "SELECT *\n",
        "FROM CITY\n",
        "WHERE CITY.ID = 1661;"
      ],
      "execution_count": null,
      "outputs": []
    },
    {
      "cell_type": "code",
      "metadata": {
        "id": "1YtE5dlnUwDo"
      },
      "source": [
        "#Japanese Cities' Attributes\n",
        "\n",
        "SELECT *\n",
        "FROM CITY\n",
        "WHERE CITY.COUNTRYCODE = 'JPN';"
      ],
      "execution_count": null,
      "outputs": []
    },
    {
      "cell_type": "code",
      "metadata": {
        "id": "T6jge26_U0Rj"
      },
      "source": [
        "#Japanese Cities' Names\n",
        "\n",
        "SELECT NAME\n",
        "FROM CITY\n",
        "WHERE CITY.COUNTRYCODE = 'JPN';"
      ],
      "execution_count": null,
      "outputs": []
    },
    {
      "cell_type": "code",
      "metadata": {
        "id": "QQwfJzySWUEJ"
      },
      "source": [
        "# Weather Observation Station 1\n",
        "\n",
        "SELECT CITY,STATE\n",
        "FROM STATION;"
      ],
      "execution_count": null,
      "outputs": []
    },
    {
      "cell_type": "code",
      "metadata": {
        "id": "jhdoC6paWlzN"
      },
      "source": [
        "#Weather Observation Station 3\n",
        "\n",
        "SELECT DISTINCT CITY\n",
        "FROM STATION S\n",
        "WHERE S.ID % 2 =0;"
      ],
      "execution_count": null,
      "outputs": []
    },
    {
      "cell_type": "code",
      "metadata": {
        "id": "l5rFStdYWq-y"
      },
      "source": [
        "#Weather Observation Station 4\n",
        "\n",
        "SELECT COUNT(CITY)-COUNT(DISTINCT CITY) unique_city_num\n",
        "FROM STATION;"
      ],
      "execution_count": null,
      "outputs": []
    }
  ]
}