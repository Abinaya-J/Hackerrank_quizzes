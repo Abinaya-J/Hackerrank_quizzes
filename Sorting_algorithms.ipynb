{
  "nbformat": 4,
  "nbformat_minor": 0,
  "metadata": {
    "colab": {
      "name": "Sorting algorithms",
      "provenance": [],
      "authorship_tag": "ABX9TyM532Pw798iVglggYQl4p5U",
      "include_colab_link": true
    },
    "kernelspec": {
      "name": "python3",
      "display_name": "Python 3"
    }
  },
  "cells": [
    {
      "cell_type": "markdown",
      "metadata": {
        "id": "view-in-github",
        "colab_type": "text"
      },
      "source": [
        "<a href=\"https://colab.research.google.com/github/Abinaya-J/Hackerrank_quizzes/blob/master/Sorting_algorithms.ipynb\" target=\"_parent\"><img src=\"https://colab.research.google.com/assets/colab-badge.svg\" alt=\"Open In Colab\"/></a>"
      ]
    },
    {
      "cell_type": "code",
      "metadata": {
        "id": "kVv-8bnnlR0m"
      },
      "source": [
        "#implement for initialization of stack as empty list\n",
        "#put values in the stack using append commend\n",
        "#first check is stack is empty or not if it is empty don't do anything\n",
        "#else use pop command from list function from python and print value\n",
        "\n",
        "def initialize ():\n",
        "  stack =[]\n",
        "  return stack\n"
      ],
      "execution_count": null,
      "outputs": []
    }
  ]
}