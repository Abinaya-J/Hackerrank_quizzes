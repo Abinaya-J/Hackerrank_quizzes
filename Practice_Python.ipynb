{
  "nbformat": 4,
  "nbformat_minor": 0,
  "metadata": {
    "colab": {
      "name": "Practice Python.ipynb",
      "provenance": []
    },
    "kernelspec": {
      "name": "python3",
      "display_name": "Python 3"
    }
  },
  "cells": [
    {
      "cell_type": "code",
      "metadata": {
        "id": "Q-odvISktHxt"
      },
      "source": [
        "#Say \"Hello, World!\" With Python\n",
        "\n",
        "print(\"Hello, World!\")"
      ],
      "execution_count": null,
      "outputs": []
    },
    {
      "cell_type": "code",
      "metadata": {
        "id": "nnM06IUx8JzF"
      },
      "source": [
        "#Python If-Else\n",
        "if __name__ == '__main__':\n",
        "    n = int(raw_input().strip())\n",
        "\n",
        "if n %2 != 0:\n",
        "    print(\"Weird\")\n",
        "elif n%2 == 0 and n in range(2,6):\n",
        "    print(\"Not Weird\")\n",
        "elif n%2 == 0 and n in range(6,21):\n",
        "    print(\"Weird\")\n",
        "else:\n",
        "    print(\"Not Weird\")"
      ],
      "execution_count": null,
      "outputs": []
    }
  ]
}