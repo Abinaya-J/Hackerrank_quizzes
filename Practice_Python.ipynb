{
  "nbformat": 4,
  "nbformat_minor": 0,
  "metadata": {
    "colab": {
      "name": "Practice Python.ipynb",
      "provenance": [],
      "authorship_tag": "ABX9TyOwBE6+uXVxMSAIEfjDU24+",
      "include_colab_link": true
    },
    "kernelspec": {
      "name": "python3",
      "display_name": "Python 3"
    }
  },
  "cells": [
    {
      "cell_type": "markdown",
      "metadata": {
        "id": "view-in-github",
        "colab_type": "text"
      },
      "source": [
        "<a href=\"https://colab.research.google.com/github/Abinaya-J/Hackerrank_quizzes/blob/master/Practice_Python.ipynb\" target=\"_parent\"><img src=\"https://colab.research.google.com/assets/colab-badge.svg\" alt=\"Open In Colab\"/></a>"
      ]
    },
    {
      "cell_type": "code",
      "metadata": {
        "id": "Q-odvISktHxt"
      },
      "source": [
        "#Say \"Hello, World!\" With Python\n",
        "\n",
        "print(\"Hello, World!\")"
      ],
      "execution_count": null,
      "outputs": []
    },
    {
      "cell_type": "code",
      "metadata": {
        "id": "nnM06IUx8JzF"
      },
      "source": [
        "#Python If-Else\n",
        "if __name__ == '__main__':\n",
        "    n = int(raw_input().strip())\n",
        "\n",
        "if n %2 != 0:\n",
        "    print(\"Weird\")\n",
        "elif n%2 == 0 and n in range(2,6):\n",
        "    print(\"Not Weird\")\n",
        "elif n%2 == 0 and n in range(6,21):\n",
        "    print(\"Weird\")\n",
        "else:\n",
        "    print(\"Not Weird\")"
      ],
      "execution_count": null,
      "outputs": []
    },
    {
      "cell_type": "code",
      "metadata": {
        "id": "sX1tGTGa9ULK"
      },
      "source": [
        "#Arithmetic Operators\n",
        "if __name__ == '__main__':\n",
        "    a = int(raw_input())\n",
        "    b = int(raw_input())\n",
        "\n",
        "print(a+b)\n",
        "print(a-b)\n",
        "print(a*b)"
      ],
      "execution_count": null,
      "outputs": []
    },
    {
      "cell_type": "code",
      "metadata": {
        "id": "QQOcDhwW9eXY"
      },
      "source": [
        "#Python: Division\n",
        "from __future__ import division\n",
        "\n",
        "if __name__ == '__main__':\n",
        "    a = int(raw_input())\n",
        "    b = int(raw_input())\n",
        "    \n",
        "print(a//b)\n",
        "print(a/b)"
      ],
      "execution_count": null,
      "outputs": []
    },
    {
      "cell_type": "code",
      "metadata": {
        "id": "EMqfq0qdvtSg"
      },
      "source": [
        "#Loops\n",
        "\n",
        "if __name__ == '__main__':\n",
        "    n = int(raw_input())\n",
        "\n",
        "for i in range(n):\n",
        "    print(i**2)"
      ],
      "execution_count": null,
      "outputs": []
    },
    {
      "cell_type": "code",
      "metadata": {
        "id": "_P2oGslJvz_O"
      },
      "source": [
        "#Write a function\n",
        "\n",
        "def is_leap(year):\n",
        "    if year%4==0 and year%100!=0:\n",
        "        leap = True\n",
        "    elif year %100==0 and year%400!=0:\n",
        "        leap = False\n",
        "    elif year %100==0 and year%400==0:\n",
        "        leap=True\n",
        "    else:\n",
        "        leap=False\n",
        "    \n",
        "    return leap "
      ],
      "execution_count": null,
      "outputs": []
    },
    {
      "cell_type": "code",
      "metadata": {
        "id": "ttesGXTLaow-"
      },
      "source": [
        "#Print function\n",
        "\n",
        "if __name__ == '__main__':\n",
        "    n = int(input())\n",
        "\n",
        "print(*range(1,n+1), sep ='')"
      ],
      "execution_count": null,
      "outputs": []
    },
    {
      "cell_type": "code",
      "metadata": {
        "id": "0V2Epq9kbTji"
      },
      "source": [
        "#Find the Runner-Up Score\n",
        "\n",
        "if __name__ == '__main__':\n",
        "    n = int(input())\n",
        "    arr = map(int, input().split())\n",
        "\n",
        "ordered_arr = sorted(arr)\n",
        "unique_scores = set(ordered_arr)\n",
        "unique_scores.discard(max(unique_scores))\n",
        "print(max(unique_scores))"
      ],
      "execution_count": null,
      "outputs": []
    }
  ]
}